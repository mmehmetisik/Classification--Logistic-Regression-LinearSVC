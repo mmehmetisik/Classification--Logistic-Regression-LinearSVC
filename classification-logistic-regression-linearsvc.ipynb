{
 "cells": [
  {
   "cell_type": "markdown",
   "id": "fbda8acf",
   "metadata": {
    "papermill": {
     "duration": 0.015926,
     "end_time": "2023-07-14T05:46:10.279270",
     "exception": false,
     "start_time": "2023-07-14T05:46:10.263344",
     "status": "completed"
    },
    "tags": []
   },
   "source": [
    "![](https://d1jnx9ba8s6j9r.cloudfront.net/blog/wp-content/uploads/2019/12/Artboard-1-100-1.jpg)"
   ]
  },
  {
   "cell_type": "markdown",
   "id": "57a163fc",
   "metadata": {
    "papermill": {
     "duration": 0.012599,
     "end_time": "2023-07-14T05:46:10.305022",
     "exception": false,
     "start_time": "2023-07-14T05:46:10.292423",
     "status": "completed"
    },
    "tags": []
   },
   "source": [
    "# What is Classification ?\n",
    "\n",
    "- Classification is a machine learning task that involves categorizing or classifying data into predefined classes or categories. It is a supervised learning approach where the model learns from labeled examples to make predictions on new, unseen data. The goal of classification is to find patterns or relationships in the input features that can be used to accurately assign each instance to the correct class.\n",
    "\n",
    "- In classification, the input data consists of a set of features or attributes, and each instance is associated with a specific class label. The classification model uses these features to learn a decision boundary or a set of rules that separate different classes. Once trained, the model can then predict the class labels for new, unseen instances based on their feature values.\n",
    "\n",
    "- There are two main types of classification problems: binary classification and multi-class classification. In binary classification, the task is to classify instances into one of two possible classes. For example, distinguishing between spam and non-spam emails. In multi-class classification, the goal is to assign instances to one of several possible classes. For instance, classifying images of animals into categories such as dog, cat, or bird.\n",
    "\n",
    "- Classification algorithms vary in complexity and can range from simple ones like logistic regression and decision trees to more advanced methods like support vector machines (SVM), random forests, and neural networks. The choice of algorithm depends on the specific problem, the nature of the data, and the desired performance metrics.\n",
    "\n",
    "- Evaluation of a classification model is typically done using metrics such as accuracy, precision, recall, and F1 score, which assess the model's performance in correctly predicting class labels. These metrics help measure the model's effectiveness in terms of correctly identifying positive and negative instances and minimizing false positives and false negatives.\n",
    "\n",
    "- Overall, classification is a fundamental task in machine learning with applications in various domains, such as image recognition, sentiment analysis, fraud detection, and medical diagnosis, among others."
   ]
  },
  {
   "cell_type": "markdown",
   "id": "6ab13dc5",
   "metadata": {
    "papermill": {
     "duration": 0.012562,
     "end_time": "2023-07-14T05:46:10.330670",
     "exception": false,
     "start_time": "2023-07-14T05:46:10.318108",
     "status": "completed"
    },
    "tags": []
   },
   "source": [
    "![](https://s3.amazonaws.com/youngwonks.lessons/epR4c2VUDRkFtjonhL8XPDd6)"
   ]
  },
  {
   "cell_type": "markdown",
   "id": "3a4f1919",
   "metadata": {
    "papermill": {
     "duration": 0.013174,
     "end_time": "2023-07-14T05:46:10.356737",
     "exception": false,
     "start_time": "2023-07-14T05:46:10.343563",
     "status": "completed"
    },
    "tags": []
   },
   "source": [
    "# What is Logistic Regression ?\n",
    "\n",
    "- Logistic regression is a statistical model used in classification problems, particularly for binary classification. It allows the prediction of the outcome as a probability value using the linear combination of input data.\n",
    "\n",
    "- Logistic regression is employed when the dependent variable (class label) is categorically divided into two classes. For example, it can be used to predict whether a patient has a certain disease or not, or to predict whether a customer will purchase a product or not.\n",
    "\n",
    "- Logistic regression combines the features in the input data through a linear function and calculates the outcome as a logarithmic odds ratio. This logarithmic odds ratio is then transformed into a probability value using the sigmoid function (logit function). This probability value represents the likelihood of the data belonging to a particular class.\n",
    "\n",
    "- The training of logistic regression involves utilizing the features and class labels in the dataset. The training process uses the maximum likelihood estimation to find the optimal coefficients (weights) of the model. It aims to determine the parameter values that best fit the observed class labels in the dataset.\n",
    "\n",
    "- The evaluation of logistic regression is performed using various metrics. These include accuracy, precision, recall, F1 score, and the area under the ROC curve (AUC-ROC). These metrics measure the classification performance of the model and assess how accurate its predictions are.\n",
    "\n",
    "- Logistic regression is a simple and interpretable classification model. However, it assumes linear relationships among the input data, and in some cases, other classification algorithms may be used to handle complexity."
   ]
  },
  {
   "cell_type": "markdown",
   "id": "41a8e58d",
   "metadata": {
    "papermill": {
     "duration": 0.012599,
     "end_time": "2023-07-14T05:46:10.383014",
     "exception": false,
     "start_time": "2023-07-14T05:46:10.370415",
     "status": "completed"
    },
    "tags": []
   },
   "source": [
    "![](https://datatron.com/wp-content/uploads/2021/05/Support-Vector-Machine.png)"
   ]
  },
  {
   "cell_type": "markdown",
   "id": "2f5cc852",
   "metadata": {
    "papermill": {
     "duration": 0.013567,
     "end_time": "2023-07-14T05:46:10.409468",
     "exception": false,
     "start_time": "2023-07-14T05:46:10.395901",
     "status": "completed"
    },
    "tags": []
   },
   "source": [
    "# What is LinearSVC ?\n",
    "\n",
    "- LinearSVC (Linear Support Vector Classification) is a linear classification model used for binary and multiclass classification tasks. It is a variant of Support Vector Machines (SVM) that uses a linear kernel function.\n",
    "\n",
    "- LinearSVC aims to find a linear decision boundary that separates the classes in the input data. It constructs a hyperplane in the feature space that maximizes the margin between the classes. The margin is the distance between the hyperplane and the closest data points from each class.\n",
    "\n",
    "- During the training process, LinearSVC learns the coefficients (weights) and intercept of the linear decision boundary by solving an optimization problem. It seeks to minimize the hinge loss, which penalizes misclassifications and encourages a wider margin. The optimization algorithm finds the optimal hyperplane that achieves the best separation between the classes.\n",
    "\n",
    "- LinearSVC is suitable for large-scale datasets as it has efficient training algorithms that can handle a large number of samples and features. It can handle both linearly separable and linearly non-separable data. However, it is generally not suitable for datasets with high-dimensional or complex feature spaces, where non-linear classifiers such as kernel SVMs or deep learning models may be more appropriate.\n",
    "\n",
    "- After training, LinearSVC can make predictions by evaluating the input data's position relative to the learned linear decision boundary. It assigns the data points to the class associated with the side of the decision boundary on which they lie.\n",
    "\n",
    "- The performance of LinearSVC can be evaluated using various metrics such as accuracy, precision, recall, and F1 score. It is important to tune the hyperparameters of the model, such as the regularization parameter C, to achieve optimal performance on the specific classification task."
   ]
  },
  {
   "cell_type": "markdown",
   "id": "e8136b05",
   "metadata": {
    "papermill": {
     "duration": 0.012704,
     "end_time": "2023-07-14T05:46:10.435190",
     "exception": false,
     "start_time": "2023-07-14T05:46:10.422486",
     "status": "completed"
    },
    "tags": []
   },
   "source": [
    "# Dataset Story\n",
    "\n",
    "- The dataset is named \"Breast Cancer Wisconsin (Diagnostic) dataset\". It contains clinical features of patients diagnosed with breast cancer. The dataset consists of 30 different features that contribute to the classification of cancer as \"M\" (malignant) or \"B\" (benign).\n",
    "\n",
    "- **The columns in the dataset are defined as follows:**\n",
    "\n",
    "* **\"diagnosis\":** The target variable indicating the classification of cancer. It is coded as \"M\" for malignant and \"B\" for benign.\n",
    "\n",
    "* **\"radius_mean\":** Mean of distances from the center to points on the perimeter of the cell.\n",
    "\n",
    "* **\"texture_mean\":** Standard deviation of gray-scale values.\n",
    "\n",
    "* **\"perimeter_mean\":** Mean size of the core tumor.\n",
    "\n",
    "* **\"area_mean\":** Mean area of the cell.\n",
    "\n",
    "* **\"smoothness_mean\":** Standard deviation of radial distances.\n",
    "\n",
    "* **\"compactness_mean\":** Perimeter^2 / Area - 1.0.\n",
    "\n",
    "* **\"concavity_mean\":** Mean severity of concave portions of the contour.\n",
    "\n",
    "* **\"concave points_mean\":** Mean number of concave portions of the contour.\n",
    "\n",
    "* **\"symmetry_mean\":** Symmetry of the cell nucleus.\n",
    "\n",
    "* **\"fractal_dimension_mean\":** Fractal dimension.\n",
    "\n",
    "- The other columns follow a similar pattern, representing mean, maximum, and standard deviation values for various features.\n",
    "\n",
    "- This dataset contains the features that are used for the diagnosis and classification of breast cancer. It can be used to build classification models and support breast cancer diagnosis in fields such as machine learning and data analytics.\n"
   ]
  },
  {
   "cell_type": "markdown",
   "id": "4343f58f",
   "metadata": {
    "papermill": {
     "duration": 0.013193,
     "end_time": "2023-07-14T05:46:10.461194",
     "exception": false,
     "start_time": "2023-07-14T05:46:10.448001",
     "status": "completed"
    },
    "tags": []
   },
   "source": [
    "# Road Map\n",
    "\n",
    "- **1. Import Required Libraries**\n",
    "- **2. Loading the Data Set**\n",
    "- **3. Checking Rows and Columns**\n",
    "- **4. \"LabelEncoder: Transforming Categorical Variables into Numerical Values\"**\n",
    "- **5. \"Encoding Diagnosis Column using LabelEncoder\"**\n",
    "- **6. \"Train-Test Split: Dividing the Dataset into Training and Testing Sets\"**\n",
    "- **7. \"Creating X_train and y_train: Separating Features and Target Variable from the Train Dataset\"**\n",
    "- **8. \"Creating X_test and y_test: Separating Features and Target Variable from the Test Dataset\"**\n",
    "- **9. \"Creating model_1: Logistic Regression Model\"**\n",
    "- **10. \"Fitting model_1: Training the Logistic Regression Model on the Training Data\"**\n",
    "- **11. \"Making Predictions: Predicting the Target Variable using model_1 on the Test Data\"**\n",
    "- **12. \"Calculating Confusion Matrix: Evaluating the Performance of the Predictions using Confusion Matrix on the Test Data\"**\n",
    "- **13. \"Printing Classification Report: Assessing the Performance of the Predictions using Classification Report on the Test Data\"**\n",
    "- **14. \"Creating model_2: Linear Support Vector Classifier (LinearSVC) Model\"**\n",
    "- **15. \"Fitting model_2: Training the Linear Support Vector Classifier (LinearSVC) Model on the Training Data\"**\n",
    "- **16. \"Making Predictions: Predicting the Target Variable using model_2 on the Test Data\"**\n",
    "- **17. \"Calculating Confusion Matrix: Evaluating the Performance of the Predictions using Confusion Matrix on the Test Data\"**\n",
    "- **18. \"Printing Classification Report: Assessing the Performance of the Predictions using Classification Report on the Test Data\"**"
   ]
  },
  {
   "cell_type": "markdown",
   "id": "3af6852f",
   "metadata": {
    "papermill": {
     "duration": 0.01265,
     "end_time": "2023-07-14T05:46:10.486565",
     "exception": false,
     "start_time": "2023-07-14T05:46:10.473915",
     "status": "completed"
    },
    "tags": []
   },
   "source": [
    "# 1. Import Required Libraries"
   ]
  },
  {
   "cell_type": "code",
   "execution_count": 1,
   "id": "8e0bf919",
   "metadata": {
    "execution": {
     "iopub.execute_input": "2023-07-14T05:46:10.514767Z",
     "iopub.status.busy": "2023-07-14T05:46:10.514323Z",
     "iopub.status.idle": "2023-07-14T05:46:12.347484Z",
     "shell.execute_reply": "2023-07-14T05:46:12.345895Z"
    },
    "papermill": {
     "duration": 1.852196,
     "end_time": "2023-07-14T05:46:12.351582",
     "exception": false,
     "start_time": "2023-07-14T05:46:10.499386",
     "status": "completed"
    },
    "tags": []
   },
   "outputs": [],
   "source": [
    "import pandas as pd\n",
    "\n",
    "from sklearn.preprocessing import LabelEncoder\n",
    "from sklearn.model_selection import train_test_split\n",
    "from sklearn.linear_model import LogisticRegression\n",
    "from sklearn.metrics import confusion_matrix\n",
    "from sklearn.metrics import classification_report\n",
    "from sklearn.svm import LinearSVC\n",
    "from sklearn.metrics import confusion_matrix\n",
    "from sklearn.metrics import classification_report"
   ]
  },
  {
   "cell_type": "markdown",
   "id": "5c6d8480",
   "metadata": {
    "papermill": {
     "duration": 0.013341,
     "end_time": "2023-07-14T05:46:12.378611",
     "exception": false,
     "start_time": "2023-07-14T05:46:12.365270",
     "status": "completed"
    },
    "tags": []
   },
   "source": [
    "# 2. Loading the Data Set"
   ]
  },
  {
   "cell_type": "code",
   "execution_count": 2,
   "id": "8cf35d3f",
   "metadata": {
    "execution": {
     "iopub.execute_input": "2023-07-14T05:46:12.407003Z",
     "iopub.status.busy": "2023-07-14T05:46:12.406506Z",
     "iopub.status.idle": "2023-07-14T05:46:12.466306Z",
     "shell.execute_reply": "2023-07-14T05:46:12.465199Z"
    },
    "papermill": {
     "duration": 0.077548,
     "end_time": "2023-07-14T05:46:12.469326",
     "exception": false,
     "start_time": "2023-07-14T05:46:12.391778",
     "status": "completed"
    },
    "tags": []
   },
   "outputs": [],
   "source": [
    "df = pd.read_csv(\"/kaggle/input/breast-cancercsv/breast-cancer.csv\")"
   ]
  },
  {
   "cell_type": "markdown",
   "id": "984412c7",
   "metadata": {
    "papermill": {
     "duration": 0.012645,
     "end_time": "2023-07-14T05:46:12.495435",
     "exception": false,
     "start_time": "2023-07-14T05:46:12.482790",
     "status": "completed"
    },
    "tags": []
   },
   "source": [
    "# 3. Checking Rows and Columns"
   ]
  },
  {
   "cell_type": "code",
   "execution_count": 3,
   "id": "f0eec7cc",
   "metadata": {
    "execution": {
     "iopub.execute_input": "2023-07-14T05:46:12.523924Z",
     "iopub.status.busy": "2023-07-14T05:46:12.523286Z",
     "iopub.status.idle": "2023-07-14T05:46:12.530934Z",
     "shell.execute_reply": "2023-07-14T05:46:12.529562Z"
    },
    "id": "bf1c090b",
    "outputId": "522acbe6-b426-45f5-c188-c272df399b7f",
    "papermill": {
     "duration": 0.025366,
     "end_time": "2023-07-14T05:46:12.533926",
     "exception": false,
     "start_time": "2023-07-14T05:46:12.508560",
     "status": "completed"
    },
    "tags": []
   },
   "outputs": [
    {
     "data": {
      "text/plain": [
       "(569, 31)"
      ]
     },
     "execution_count": 3,
     "metadata": {},
     "output_type": "execute_result"
    }
   ],
   "source": [
    "df.shape"
   ]
  },
  {
   "cell_type": "code",
   "execution_count": 4,
   "id": "99df0267",
   "metadata": {
    "execution": {
     "iopub.execute_input": "2023-07-14T05:46:12.563454Z",
     "iopub.status.busy": "2023-07-14T05:46:12.562921Z",
     "iopub.status.idle": "2023-07-14T05:46:12.618613Z",
     "shell.execute_reply": "2023-07-14T05:46:12.617438Z"
    },
    "id": "272cd872",
    "outputId": "8a6f9bfa-0336-4380-8a01-d0f506b70000",
    "papermill": {
     "duration": 0.073314,
     "end_time": "2023-07-14T05:46:12.621218",
     "exception": false,
     "start_time": "2023-07-14T05:46:12.547904",
     "status": "completed"
    },
    "tags": []
   },
   "outputs": [
    {
     "data": {
      "text/html": [
       "<div>\n",
       "<style scoped>\n",
       "    .dataframe tbody tr th:only-of-type {\n",
       "        vertical-align: middle;\n",
       "    }\n",
       "\n",
       "    .dataframe tbody tr th {\n",
       "        vertical-align: top;\n",
       "    }\n",
       "\n",
       "    .dataframe thead th {\n",
       "        text-align: right;\n",
       "    }\n",
       "</style>\n",
       "<table border=\"1\" class=\"dataframe\">\n",
       "  <thead>\n",
       "    <tr style=\"text-align: right;\">\n",
       "      <th></th>\n",
       "      <th>diagnosis</th>\n",
       "      <th>radius_mean</th>\n",
       "      <th>texture_mean</th>\n",
       "      <th>perimeter_mean</th>\n",
       "      <th>area_mean</th>\n",
       "      <th>smoothness_mean</th>\n",
       "      <th>compactness_mean</th>\n",
       "      <th>concavity_mean</th>\n",
       "      <th>concave points_mean</th>\n",
       "      <th>symmetry_mean</th>\n",
       "      <th>...</th>\n",
       "      <th>radius_worst</th>\n",
       "      <th>texture_worst</th>\n",
       "      <th>perimeter_worst</th>\n",
       "      <th>area_worst</th>\n",
       "      <th>smoothness_worst</th>\n",
       "      <th>compactness_worst</th>\n",
       "      <th>concavity_worst</th>\n",
       "      <th>concave points_worst</th>\n",
       "      <th>symmetry_worst</th>\n",
       "      <th>fractal_dimension_worst</th>\n",
       "    </tr>\n",
       "  </thead>\n",
       "  <tbody>\n",
       "    <tr>\n",
       "      <th>0</th>\n",
       "      <td>M</td>\n",
       "      <td>1.097064</td>\n",
       "      <td>-2.073335</td>\n",
       "      <td>1.269934</td>\n",
       "      <td>0.984375</td>\n",
       "      <td>1.568466</td>\n",
       "      <td>3.283515</td>\n",
       "      <td>2.652874</td>\n",
       "      <td>2.532475</td>\n",
       "      <td>2.217515</td>\n",
       "      <td>...</td>\n",
       "      <td>1.886690</td>\n",
       "      <td>-1.359293</td>\n",
       "      <td>2.303601</td>\n",
       "      <td>2.001237</td>\n",
       "      <td>1.307686</td>\n",
       "      <td>2.616665</td>\n",
       "      <td>2.109526</td>\n",
       "      <td>2.296076</td>\n",
       "      <td>2.750622</td>\n",
       "      <td>1.937015</td>\n",
       "    </tr>\n",
       "    <tr>\n",
       "      <th>1</th>\n",
       "      <td>M</td>\n",
       "      <td>1.829821</td>\n",
       "      <td>-0.353632</td>\n",
       "      <td>1.685955</td>\n",
       "      <td>1.908708</td>\n",
       "      <td>-0.826962</td>\n",
       "      <td>-0.487072</td>\n",
       "      <td>-0.023846</td>\n",
       "      <td>0.548144</td>\n",
       "      <td>0.001392</td>\n",
       "      <td>...</td>\n",
       "      <td>1.805927</td>\n",
       "      <td>-0.369203</td>\n",
       "      <td>1.535126</td>\n",
       "      <td>1.890489</td>\n",
       "      <td>-0.375612</td>\n",
       "      <td>-0.430444</td>\n",
       "      <td>-0.146749</td>\n",
       "      <td>1.087084</td>\n",
       "      <td>-0.243890</td>\n",
       "      <td>0.281190</td>\n",
       "    </tr>\n",
       "    <tr>\n",
       "      <th>2</th>\n",
       "      <td>M</td>\n",
       "      <td>1.579888</td>\n",
       "      <td>0.456187</td>\n",
       "      <td>1.566503</td>\n",
       "      <td>1.558884</td>\n",
       "      <td>0.942210</td>\n",
       "      <td>1.052926</td>\n",
       "      <td>1.363478</td>\n",
       "      <td>2.037231</td>\n",
       "      <td>0.939685</td>\n",
       "      <td>...</td>\n",
       "      <td>1.511870</td>\n",
       "      <td>-0.023974</td>\n",
       "      <td>1.347475</td>\n",
       "      <td>1.456285</td>\n",
       "      <td>0.527407</td>\n",
       "      <td>1.082932</td>\n",
       "      <td>0.854974</td>\n",
       "      <td>1.955000</td>\n",
       "      <td>1.152255</td>\n",
       "      <td>0.201391</td>\n",
       "    </tr>\n",
       "    <tr>\n",
       "      <th>3</th>\n",
       "      <td>M</td>\n",
       "      <td>-0.768909</td>\n",
       "      <td>0.253732</td>\n",
       "      <td>-0.592687</td>\n",
       "      <td>-0.764464</td>\n",
       "      <td>3.283553</td>\n",
       "      <td>3.402909</td>\n",
       "      <td>1.915897</td>\n",
       "      <td>1.451707</td>\n",
       "      <td>2.867383</td>\n",
       "      <td>...</td>\n",
       "      <td>-0.281464</td>\n",
       "      <td>0.133984</td>\n",
       "      <td>-0.249939</td>\n",
       "      <td>-0.550021</td>\n",
       "      <td>3.394275</td>\n",
       "      <td>3.893397</td>\n",
       "      <td>1.989588</td>\n",
       "      <td>2.175786</td>\n",
       "      <td>6.046041</td>\n",
       "      <td>4.935010</td>\n",
       "    </tr>\n",
       "    <tr>\n",
       "      <th>4</th>\n",
       "      <td>M</td>\n",
       "      <td>1.750297</td>\n",
       "      <td>-1.151816</td>\n",
       "      <td>1.776573</td>\n",
       "      <td>1.826229</td>\n",
       "      <td>0.280372</td>\n",
       "      <td>0.539340</td>\n",
       "      <td>1.371011</td>\n",
       "      <td>1.428493</td>\n",
       "      <td>-0.009560</td>\n",
       "      <td>...</td>\n",
       "      <td>1.298575</td>\n",
       "      <td>-1.466770</td>\n",
       "      <td>1.338539</td>\n",
       "      <td>1.220724</td>\n",
       "      <td>0.220556</td>\n",
       "      <td>-0.313395</td>\n",
       "      <td>0.613179</td>\n",
       "      <td>0.729259</td>\n",
       "      <td>-0.868353</td>\n",
       "      <td>-0.397100</td>\n",
       "    </tr>\n",
       "  </tbody>\n",
       "</table>\n",
       "<p>5 rows × 31 columns</p>\n",
       "</div>"
      ],
      "text/plain": [
       "  diagnosis  radius_mean  texture_mean  perimeter_mean  area_mean  \\\n",
       "0         M     1.097064     -2.073335        1.269934   0.984375   \n",
       "1         M     1.829821     -0.353632        1.685955   1.908708   \n",
       "2         M     1.579888      0.456187        1.566503   1.558884   \n",
       "3         M    -0.768909      0.253732       -0.592687  -0.764464   \n",
       "4         M     1.750297     -1.151816        1.776573   1.826229   \n",
       "\n",
       "   smoothness_mean  compactness_mean  concavity_mean  concave points_mean  \\\n",
       "0         1.568466          3.283515        2.652874             2.532475   \n",
       "1        -0.826962         -0.487072       -0.023846             0.548144   \n",
       "2         0.942210          1.052926        1.363478             2.037231   \n",
       "3         3.283553          3.402909        1.915897             1.451707   \n",
       "4         0.280372          0.539340        1.371011             1.428493   \n",
       "\n",
       "   symmetry_mean  ...  radius_worst  texture_worst  perimeter_worst  \\\n",
       "0       2.217515  ...      1.886690      -1.359293         2.303601   \n",
       "1       0.001392  ...      1.805927      -0.369203         1.535126   \n",
       "2       0.939685  ...      1.511870      -0.023974         1.347475   \n",
       "3       2.867383  ...     -0.281464       0.133984        -0.249939   \n",
       "4      -0.009560  ...      1.298575      -1.466770         1.338539   \n",
       "\n",
       "   area_worst  smoothness_worst  compactness_worst  concavity_worst  \\\n",
       "0    2.001237          1.307686           2.616665         2.109526   \n",
       "1    1.890489         -0.375612          -0.430444        -0.146749   \n",
       "2    1.456285          0.527407           1.082932         0.854974   \n",
       "3   -0.550021          3.394275           3.893397         1.989588   \n",
       "4    1.220724          0.220556          -0.313395         0.613179   \n",
       "\n",
       "   concave points_worst  symmetry_worst  fractal_dimension_worst  \n",
       "0              2.296076        2.750622                 1.937015  \n",
       "1              1.087084       -0.243890                 0.281190  \n",
       "2              1.955000        1.152255                 0.201391  \n",
       "3              2.175786        6.046041                 4.935010  \n",
       "4              0.729259       -0.868353                -0.397100  \n",
       "\n",
       "[5 rows x 31 columns]"
      ]
     },
     "execution_count": 4,
     "metadata": {},
     "output_type": "execute_result"
    }
   ],
   "source": [
    "df.head()"
   ]
  },
  {
   "cell_type": "code",
   "execution_count": 5,
   "id": "e37714bf",
   "metadata": {
    "execution": {
     "iopub.execute_input": "2023-07-14T05:46:12.650853Z",
     "iopub.status.busy": "2023-07-14T05:46:12.650192Z",
     "iopub.status.idle": "2023-07-14T05:46:12.678299Z",
     "shell.execute_reply": "2023-07-14T05:46:12.677113Z"
    },
    "id": "395ced3c",
    "outputId": "1e2dca05-d8a3-4467-f2ff-7bd31c56a648",
    "papermill": {
     "duration": 0.046517,
     "end_time": "2023-07-14T05:46:12.681317",
     "exception": false,
     "start_time": "2023-07-14T05:46:12.634800",
     "status": "completed"
    },
    "scrolled": true,
    "tags": []
   },
   "outputs": [
    {
     "data": {
      "text/html": [
       "<div>\n",
       "<style scoped>\n",
       "    .dataframe tbody tr th:only-of-type {\n",
       "        vertical-align: middle;\n",
       "    }\n",
       "\n",
       "    .dataframe tbody tr th {\n",
       "        vertical-align: top;\n",
       "    }\n",
       "\n",
       "    .dataframe thead th {\n",
       "        text-align: right;\n",
       "    }\n",
       "</style>\n",
       "<table border=\"1\" class=\"dataframe\">\n",
       "  <thead>\n",
       "    <tr style=\"text-align: right;\">\n",
       "      <th></th>\n",
       "      <th>diagnosis</th>\n",
       "      <th>radius_mean</th>\n",
       "      <th>texture_mean</th>\n",
       "      <th>perimeter_mean</th>\n",
       "      <th>area_mean</th>\n",
       "      <th>smoothness_mean</th>\n",
       "      <th>compactness_mean</th>\n",
       "      <th>concavity_mean</th>\n",
       "      <th>concave points_mean</th>\n",
       "      <th>symmetry_mean</th>\n",
       "      <th>...</th>\n",
       "      <th>radius_worst</th>\n",
       "      <th>texture_worst</th>\n",
       "      <th>perimeter_worst</th>\n",
       "      <th>area_worst</th>\n",
       "      <th>smoothness_worst</th>\n",
       "      <th>compactness_worst</th>\n",
       "      <th>concavity_worst</th>\n",
       "      <th>concave points_worst</th>\n",
       "      <th>symmetry_worst</th>\n",
       "      <th>fractal_dimension_worst</th>\n",
       "    </tr>\n",
       "  </thead>\n",
       "  <tbody>\n",
       "    <tr>\n",
       "      <th>564</th>\n",
       "      <td>M</td>\n",
       "      <td>2.110995</td>\n",
       "      <td>0.721473</td>\n",
       "      <td>2.060786</td>\n",
       "      <td>2.343856</td>\n",
       "      <td>1.041842</td>\n",
       "      <td>0.219060</td>\n",
       "      <td>1.947285</td>\n",
       "      <td>2.320965</td>\n",
       "      <td>-0.312589</td>\n",
       "      <td>...</td>\n",
       "      <td>1.901185</td>\n",
       "      <td>0.117700</td>\n",
       "      <td>1.752563</td>\n",
       "      <td>2.015301</td>\n",
       "      <td>0.378365</td>\n",
       "      <td>-0.273318</td>\n",
       "      <td>0.664512</td>\n",
       "      <td>1.629151</td>\n",
       "      <td>-1.360158</td>\n",
       "      <td>-0.709091</td>\n",
       "    </tr>\n",
       "    <tr>\n",
       "      <th>565</th>\n",
       "      <td>M</td>\n",
       "      <td>1.704854</td>\n",
       "      <td>2.085134</td>\n",
       "      <td>1.615931</td>\n",
       "      <td>1.723842</td>\n",
       "      <td>0.102458</td>\n",
       "      <td>-0.017833</td>\n",
       "      <td>0.693043</td>\n",
       "      <td>1.263669</td>\n",
       "      <td>-0.217664</td>\n",
       "      <td>...</td>\n",
       "      <td>1.536720</td>\n",
       "      <td>2.047399</td>\n",
       "      <td>1.421940</td>\n",
       "      <td>1.494959</td>\n",
       "      <td>-0.691230</td>\n",
       "      <td>-0.394820</td>\n",
       "      <td>0.236573</td>\n",
       "      <td>0.733827</td>\n",
       "      <td>-0.531855</td>\n",
       "      <td>-0.973978</td>\n",
       "    </tr>\n",
       "    <tr>\n",
       "      <th>566</th>\n",
       "      <td>M</td>\n",
       "      <td>0.702284</td>\n",
       "      <td>2.045574</td>\n",
       "      <td>0.672676</td>\n",
       "      <td>0.577953</td>\n",
       "      <td>-0.840484</td>\n",
       "      <td>-0.038680</td>\n",
       "      <td>0.046588</td>\n",
       "      <td>0.105777</td>\n",
       "      <td>-0.809117</td>\n",
       "      <td>...</td>\n",
       "      <td>0.561361</td>\n",
       "      <td>1.374854</td>\n",
       "      <td>0.579001</td>\n",
       "      <td>0.427906</td>\n",
       "      <td>-0.809587</td>\n",
       "      <td>0.350735</td>\n",
       "      <td>0.326767</td>\n",
       "      <td>0.414069</td>\n",
       "      <td>-1.104549</td>\n",
       "      <td>-0.318409</td>\n",
       "    </tr>\n",
       "    <tr>\n",
       "      <th>567</th>\n",
       "      <td>M</td>\n",
       "      <td>1.838341</td>\n",
       "      <td>2.336457</td>\n",
       "      <td>1.982524</td>\n",
       "      <td>1.735218</td>\n",
       "      <td>1.525767</td>\n",
       "      <td>3.272144</td>\n",
       "      <td>3.296944</td>\n",
       "      <td>2.658866</td>\n",
       "      <td>2.137194</td>\n",
       "      <td>...</td>\n",
       "      <td>1.961239</td>\n",
       "      <td>2.237926</td>\n",
       "      <td>2.303601</td>\n",
       "      <td>1.653171</td>\n",
       "      <td>1.430427</td>\n",
       "      <td>3.904848</td>\n",
       "      <td>3.197605</td>\n",
       "      <td>2.289985</td>\n",
       "      <td>1.919083</td>\n",
       "      <td>2.219635</td>\n",
       "    </tr>\n",
       "    <tr>\n",
       "      <th>568</th>\n",
       "      <td>B</td>\n",
       "      <td>-1.808401</td>\n",
       "      <td>1.221792</td>\n",
       "      <td>-1.814389</td>\n",
       "      <td>-1.347789</td>\n",
       "      <td>-3.112085</td>\n",
       "      <td>-1.150752</td>\n",
       "      <td>-1.114873</td>\n",
       "      <td>-1.261820</td>\n",
       "      <td>-0.820070</td>\n",
       "      <td>...</td>\n",
       "      <td>-1.410893</td>\n",
       "      <td>0.764190</td>\n",
       "      <td>-1.432735</td>\n",
       "      <td>-1.075813</td>\n",
       "      <td>-1.859019</td>\n",
       "      <td>-1.207552</td>\n",
       "      <td>-1.305831</td>\n",
       "      <td>-1.745063</td>\n",
       "      <td>-0.048138</td>\n",
       "      <td>-0.751207</td>\n",
       "    </tr>\n",
       "  </tbody>\n",
       "</table>\n",
       "<p>5 rows × 31 columns</p>\n",
       "</div>"
      ],
      "text/plain": [
       "    diagnosis  radius_mean  texture_mean  perimeter_mean  area_mean  \\\n",
       "564         M     2.110995      0.721473        2.060786   2.343856   \n",
       "565         M     1.704854      2.085134        1.615931   1.723842   \n",
       "566         M     0.702284      2.045574        0.672676   0.577953   \n",
       "567         M     1.838341      2.336457        1.982524   1.735218   \n",
       "568         B    -1.808401      1.221792       -1.814389  -1.347789   \n",
       "\n",
       "     smoothness_mean  compactness_mean  concavity_mean  concave points_mean  \\\n",
       "564         1.041842          0.219060        1.947285             2.320965   \n",
       "565         0.102458         -0.017833        0.693043             1.263669   \n",
       "566        -0.840484         -0.038680        0.046588             0.105777   \n",
       "567         1.525767          3.272144        3.296944             2.658866   \n",
       "568        -3.112085         -1.150752       -1.114873            -1.261820   \n",
       "\n",
       "     symmetry_mean  ...  radius_worst  texture_worst  perimeter_worst  \\\n",
       "564      -0.312589  ...      1.901185       0.117700         1.752563   \n",
       "565      -0.217664  ...      1.536720       2.047399         1.421940   \n",
       "566      -0.809117  ...      0.561361       1.374854         0.579001   \n",
       "567       2.137194  ...      1.961239       2.237926         2.303601   \n",
       "568      -0.820070  ...     -1.410893       0.764190        -1.432735   \n",
       "\n",
       "     area_worst  smoothness_worst  compactness_worst  concavity_worst  \\\n",
       "564    2.015301          0.378365          -0.273318         0.664512   \n",
       "565    1.494959         -0.691230          -0.394820         0.236573   \n",
       "566    0.427906         -0.809587           0.350735         0.326767   \n",
       "567    1.653171          1.430427           3.904848         3.197605   \n",
       "568   -1.075813         -1.859019          -1.207552        -1.305831   \n",
       "\n",
       "     concave points_worst  symmetry_worst  fractal_dimension_worst  \n",
       "564              1.629151       -1.360158                -0.709091  \n",
       "565              0.733827       -0.531855                -0.973978  \n",
       "566              0.414069       -1.104549                -0.318409  \n",
       "567              2.289985        1.919083                 2.219635  \n",
       "568             -1.745063       -0.048138                -0.751207  \n",
       "\n",
       "[5 rows x 31 columns]"
      ]
     },
     "execution_count": 5,
     "metadata": {},
     "output_type": "execute_result"
    }
   ],
   "source": [
    "df.tail()"
   ]
  },
  {
   "cell_type": "markdown",
   "id": "f585861f",
   "metadata": {
    "papermill": {
     "duration": 0.013783,
     "end_time": "2023-07-14T05:46:12.711594",
     "exception": false,
     "start_time": "2023-07-14T05:46:12.697811",
     "status": "completed"
    },
    "tags": []
   },
   "source": [
    "# 4. \"LabelEncoder: Transforming Categorical Variables into Numerical Values\""
   ]
  },
  {
   "cell_type": "code",
   "execution_count": 6,
   "id": "86e83b63",
   "metadata": {
    "execution": {
     "iopub.execute_input": "2023-07-14T05:46:12.742203Z",
     "iopub.status.busy": "2023-07-14T05:46:12.741501Z",
     "iopub.status.idle": "2023-07-14T05:46:12.746747Z",
     "shell.execute_reply": "2023-07-14T05:46:12.745835Z"
    },
    "papermill": {
     "duration": 0.02361,
     "end_time": "2023-07-14T05:46:12.749257",
     "exception": false,
     "start_time": "2023-07-14T05:46:12.725647",
     "status": "completed"
    },
    "tags": []
   },
   "outputs": [],
   "source": [
    "labelencoder = LabelEncoder()"
   ]
  },
  {
   "cell_type": "markdown",
   "id": "34280169",
   "metadata": {
    "papermill": {
     "duration": 0.013848,
     "end_time": "2023-07-14T05:46:12.778765",
     "exception": false,
     "start_time": "2023-07-14T05:46:12.764917",
     "status": "completed"
    },
    "tags": []
   },
   "source": [
    "# 5. \"Encoding Diagnosis Column using LabelEncoder\""
   ]
  },
  {
   "cell_type": "code",
   "execution_count": 7,
   "id": "2e8db719",
   "metadata": {
    "execution": {
     "iopub.execute_input": "2023-07-14T05:46:12.811517Z",
     "iopub.status.busy": "2023-07-14T05:46:12.810826Z",
     "iopub.status.idle": "2023-07-14T05:46:12.817701Z",
     "shell.execute_reply": "2023-07-14T05:46:12.816601Z"
    },
    "id": "2e583520",
    "papermill": {
     "duration": 0.026992,
     "end_time": "2023-07-14T05:46:12.820736",
     "exception": false,
     "start_time": "2023-07-14T05:46:12.793744",
     "status": "completed"
    },
    "tags": []
   },
   "outputs": [],
   "source": [
    "df[\"diagnosis\"] = labelencoder.fit_transform(df[\"diagnosis\"].values) "
   ]
  },
  {
   "cell_type": "code",
   "execution_count": 8,
   "id": "ea9f0f86",
   "metadata": {
    "execution": {
     "iopub.execute_input": "2023-07-14T05:46:12.854244Z",
     "iopub.status.busy": "2023-07-14T05:46:12.852807Z",
     "iopub.status.idle": "2023-07-14T05:46:12.884955Z",
     "shell.execute_reply": "2023-07-14T05:46:12.883591Z"
    },
    "id": "e25a66ff",
    "outputId": "31d4a744-1316-46eb-8463-10292520b376",
    "papermill": {
     "duration": 0.052222,
     "end_time": "2023-07-14T05:46:12.888007",
     "exception": false,
     "start_time": "2023-07-14T05:46:12.835785",
     "status": "completed"
    },
    "tags": []
   },
   "outputs": [
    {
     "data": {
      "text/html": [
       "<div>\n",
       "<style scoped>\n",
       "    .dataframe tbody tr th:only-of-type {\n",
       "        vertical-align: middle;\n",
       "    }\n",
       "\n",
       "    .dataframe tbody tr th {\n",
       "        vertical-align: top;\n",
       "    }\n",
       "\n",
       "    .dataframe thead th {\n",
       "        text-align: right;\n",
       "    }\n",
       "</style>\n",
       "<table border=\"1\" class=\"dataframe\">\n",
       "  <thead>\n",
       "    <tr style=\"text-align: right;\">\n",
       "      <th></th>\n",
       "      <th>diagnosis</th>\n",
       "      <th>radius_mean</th>\n",
       "      <th>texture_mean</th>\n",
       "      <th>perimeter_mean</th>\n",
       "      <th>area_mean</th>\n",
       "      <th>smoothness_mean</th>\n",
       "      <th>compactness_mean</th>\n",
       "      <th>concavity_mean</th>\n",
       "      <th>concave points_mean</th>\n",
       "      <th>symmetry_mean</th>\n",
       "      <th>...</th>\n",
       "      <th>radius_worst</th>\n",
       "      <th>texture_worst</th>\n",
       "      <th>perimeter_worst</th>\n",
       "      <th>area_worst</th>\n",
       "      <th>smoothness_worst</th>\n",
       "      <th>compactness_worst</th>\n",
       "      <th>concavity_worst</th>\n",
       "      <th>concave points_worst</th>\n",
       "      <th>symmetry_worst</th>\n",
       "      <th>fractal_dimension_worst</th>\n",
       "    </tr>\n",
       "  </thead>\n",
       "  <tbody>\n",
       "    <tr>\n",
       "      <th>0</th>\n",
       "      <td>1</td>\n",
       "      <td>1.097064</td>\n",
       "      <td>-2.073335</td>\n",
       "      <td>1.269934</td>\n",
       "      <td>0.984375</td>\n",
       "      <td>1.568466</td>\n",
       "      <td>3.283515</td>\n",
       "      <td>2.652874</td>\n",
       "      <td>2.532475</td>\n",
       "      <td>2.217515</td>\n",
       "      <td>...</td>\n",
       "      <td>1.886690</td>\n",
       "      <td>-1.359293</td>\n",
       "      <td>2.303601</td>\n",
       "      <td>2.001237</td>\n",
       "      <td>1.307686</td>\n",
       "      <td>2.616665</td>\n",
       "      <td>2.109526</td>\n",
       "      <td>2.296076</td>\n",
       "      <td>2.750622</td>\n",
       "      <td>1.937015</td>\n",
       "    </tr>\n",
       "    <tr>\n",
       "      <th>1</th>\n",
       "      <td>1</td>\n",
       "      <td>1.829821</td>\n",
       "      <td>-0.353632</td>\n",
       "      <td>1.685955</td>\n",
       "      <td>1.908708</td>\n",
       "      <td>-0.826962</td>\n",
       "      <td>-0.487072</td>\n",
       "      <td>-0.023846</td>\n",
       "      <td>0.548144</td>\n",
       "      <td>0.001392</td>\n",
       "      <td>...</td>\n",
       "      <td>1.805927</td>\n",
       "      <td>-0.369203</td>\n",
       "      <td>1.535126</td>\n",
       "      <td>1.890489</td>\n",
       "      <td>-0.375612</td>\n",
       "      <td>-0.430444</td>\n",
       "      <td>-0.146749</td>\n",
       "      <td>1.087084</td>\n",
       "      <td>-0.243890</td>\n",
       "      <td>0.281190</td>\n",
       "    </tr>\n",
       "    <tr>\n",
       "      <th>2</th>\n",
       "      <td>1</td>\n",
       "      <td>1.579888</td>\n",
       "      <td>0.456187</td>\n",
       "      <td>1.566503</td>\n",
       "      <td>1.558884</td>\n",
       "      <td>0.942210</td>\n",
       "      <td>1.052926</td>\n",
       "      <td>1.363478</td>\n",
       "      <td>2.037231</td>\n",
       "      <td>0.939685</td>\n",
       "      <td>...</td>\n",
       "      <td>1.511870</td>\n",
       "      <td>-0.023974</td>\n",
       "      <td>1.347475</td>\n",
       "      <td>1.456285</td>\n",
       "      <td>0.527407</td>\n",
       "      <td>1.082932</td>\n",
       "      <td>0.854974</td>\n",
       "      <td>1.955000</td>\n",
       "      <td>1.152255</td>\n",
       "      <td>0.201391</td>\n",
       "    </tr>\n",
       "    <tr>\n",
       "      <th>3</th>\n",
       "      <td>1</td>\n",
       "      <td>-0.768909</td>\n",
       "      <td>0.253732</td>\n",
       "      <td>-0.592687</td>\n",
       "      <td>-0.764464</td>\n",
       "      <td>3.283553</td>\n",
       "      <td>3.402909</td>\n",
       "      <td>1.915897</td>\n",
       "      <td>1.451707</td>\n",
       "      <td>2.867383</td>\n",
       "      <td>...</td>\n",
       "      <td>-0.281464</td>\n",
       "      <td>0.133984</td>\n",
       "      <td>-0.249939</td>\n",
       "      <td>-0.550021</td>\n",
       "      <td>3.394275</td>\n",
       "      <td>3.893397</td>\n",
       "      <td>1.989588</td>\n",
       "      <td>2.175786</td>\n",
       "      <td>6.046041</td>\n",
       "      <td>4.935010</td>\n",
       "    </tr>\n",
       "    <tr>\n",
       "      <th>4</th>\n",
       "      <td>1</td>\n",
       "      <td>1.750297</td>\n",
       "      <td>-1.151816</td>\n",
       "      <td>1.776573</td>\n",
       "      <td>1.826229</td>\n",
       "      <td>0.280372</td>\n",
       "      <td>0.539340</td>\n",
       "      <td>1.371011</td>\n",
       "      <td>1.428493</td>\n",
       "      <td>-0.009560</td>\n",
       "      <td>...</td>\n",
       "      <td>1.298575</td>\n",
       "      <td>-1.466770</td>\n",
       "      <td>1.338539</td>\n",
       "      <td>1.220724</td>\n",
       "      <td>0.220556</td>\n",
       "      <td>-0.313395</td>\n",
       "      <td>0.613179</td>\n",
       "      <td>0.729259</td>\n",
       "      <td>-0.868353</td>\n",
       "      <td>-0.397100</td>\n",
       "    </tr>\n",
       "  </tbody>\n",
       "</table>\n",
       "<p>5 rows × 31 columns</p>\n",
       "</div>"
      ],
      "text/plain": [
       "   diagnosis  radius_mean  texture_mean  perimeter_mean  area_mean  \\\n",
       "0          1     1.097064     -2.073335        1.269934   0.984375   \n",
       "1          1     1.829821     -0.353632        1.685955   1.908708   \n",
       "2          1     1.579888      0.456187        1.566503   1.558884   \n",
       "3          1    -0.768909      0.253732       -0.592687  -0.764464   \n",
       "4          1     1.750297     -1.151816        1.776573   1.826229   \n",
       "\n",
       "   smoothness_mean  compactness_mean  concavity_mean  concave points_mean  \\\n",
       "0         1.568466          3.283515        2.652874             2.532475   \n",
       "1        -0.826962         -0.487072       -0.023846             0.548144   \n",
       "2         0.942210          1.052926        1.363478             2.037231   \n",
       "3         3.283553          3.402909        1.915897             1.451707   \n",
       "4         0.280372          0.539340        1.371011             1.428493   \n",
       "\n",
       "   symmetry_mean  ...  radius_worst  texture_worst  perimeter_worst  \\\n",
       "0       2.217515  ...      1.886690      -1.359293         2.303601   \n",
       "1       0.001392  ...      1.805927      -0.369203         1.535126   \n",
       "2       0.939685  ...      1.511870      -0.023974         1.347475   \n",
       "3       2.867383  ...     -0.281464       0.133984        -0.249939   \n",
       "4      -0.009560  ...      1.298575      -1.466770         1.338539   \n",
       "\n",
       "   area_worst  smoothness_worst  compactness_worst  concavity_worst  \\\n",
       "0    2.001237          1.307686           2.616665         2.109526   \n",
       "1    1.890489         -0.375612          -0.430444        -0.146749   \n",
       "2    1.456285          0.527407           1.082932         0.854974   \n",
       "3   -0.550021          3.394275           3.893397         1.989588   \n",
       "4    1.220724          0.220556          -0.313395         0.613179   \n",
       "\n",
       "   concave points_worst  symmetry_worst  fractal_dimension_worst  \n",
       "0              2.296076        2.750622                 1.937015  \n",
       "1              1.087084       -0.243890                 0.281190  \n",
       "2              1.955000        1.152255                 0.201391  \n",
       "3              2.175786        6.046041                 4.935010  \n",
       "4              0.729259       -0.868353                -0.397100  \n",
       "\n",
       "[5 rows x 31 columns]"
      ]
     },
     "execution_count": 8,
     "metadata": {},
     "output_type": "execute_result"
    }
   ],
   "source": [
    "df.head()"
   ]
  },
  {
   "cell_type": "code",
   "execution_count": 9,
   "id": "369fd55d",
   "metadata": {
    "execution": {
     "iopub.execute_input": "2023-07-14T05:46:12.919880Z",
     "iopub.status.busy": "2023-07-14T05:46:12.918818Z",
     "iopub.status.idle": "2023-07-14T05:46:12.950996Z",
     "shell.execute_reply": "2023-07-14T05:46:12.949584Z"
    },
    "id": "40839716",
    "outputId": "5eedb3fc-8126-4a1f-cd0a-b4d430e441ed",
    "papermill": {
     "duration": 0.050815,
     "end_time": "2023-07-14T05:46:12.953773",
     "exception": false,
     "start_time": "2023-07-14T05:46:12.902958",
     "status": "completed"
    },
    "tags": []
   },
   "outputs": [
    {
     "data": {
      "text/html": [
       "<div>\n",
       "<style scoped>\n",
       "    .dataframe tbody tr th:only-of-type {\n",
       "        vertical-align: middle;\n",
       "    }\n",
       "\n",
       "    .dataframe tbody tr th {\n",
       "        vertical-align: top;\n",
       "    }\n",
       "\n",
       "    .dataframe thead th {\n",
       "        text-align: right;\n",
       "    }\n",
       "</style>\n",
       "<table border=\"1\" class=\"dataframe\">\n",
       "  <thead>\n",
       "    <tr style=\"text-align: right;\">\n",
       "      <th></th>\n",
       "      <th>diagnosis</th>\n",
       "      <th>radius_mean</th>\n",
       "      <th>texture_mean</th>\n",
       "      <th>perimeter_mean</th>\n",
       "      <th>area_mean</th>\n",
       "      <th>smoothness_mean</th>\n",
       "      <th>compactness_mean</th>\n",
       "      <th>concavity_mean</th>\n",
       "      <th>concave points_mean</th>\n",
       "      <th>symmetry_mean</th>\n",
       "      <th>...</th>\n",
       "      <th>radius_worst</th>\n",
       "      <th>texture_worst</th>\n",
       "      <th>perimeter_worst</th>\n",
       "      <th>area_worst</th>\n",
       "      <th>smoothness_worst</th>\n",
       "      <th>compactness_worst</th>\n",
       "      <th>concavity_worst</th>\n",
       "      <th>concave points_worst</th>\n",
       "      <th>symmetry_worst</th>\n",
       "      <th>fractal_dimension_worst</th>\n",
       "    </tr>\n",
       "  </thead>\n",
       "  <tbody>\n",
       "    <tr>\n",
       "      <th>564</th>\n",
       "      <td>1</td>\n",
       "      <td>2.110995</td>\n",
       "      <td>0.721473</td>\n",
       "      <td>2.060786</td>\n",
       "      <td>2.343856</td>\n",
       "      <td>1.041842</td>\n",
       "      <td>0.219060</td>\n",
       "      <td>1.947285</td>\n",
       "      <td>2.320965</td>\n",
       "      <td>-0.312589</td>\n",
       "      <td>...</td>\n",
       "      <td>1.901185</td>\n",
       "      <td>0.117700</td>\n",
       "      <td>1.752563</td>\n",
       "      <td>2.015301</td>\n",
       "      <td>0.378365</td>\n",
       "      <td>-0.273318</td>\n",
       "      <td>0.664512</td>\n",
       "      <td>1.629151</td>\n",
       "      <td>-1.360158</td>\n",
       "      <td>-0.709091</td>\n",
       "    </tr>\n",
       "    <tr>\n",
       "      <th>565</th>\n",
       "      <td>1</td>\n",
       "      <td>1.704854</td>\n",
       "      <td>2.085134</td>\n",
       "      <td>1.615931</td>\n",
       "      <td>1.723842</td>\n",
       "      <td>0.102458</td>\n",
       "      <td>-0.017833</td>\n",
       "      <td>0.693043</td>\n",
       "      <td>1.263669</td>\n",
       "      <td>-0.217664</td>\n",
       "      <td>...</td>\n",
       "      <td>1.536720</td>\n",
       "      <td>2.047399</td>\n",
       "      <td>1.421940</td>\n",
       "      <td>1.494959</td>\n",
       "      <td>-0.691230</td>\n",
       "      <td>-0.394820</td>\n",
       "      <td>0.236573</td>\n",
       "      <td>0.733827</td>\n",
       "      <td>-0.531855</td>\n",
       "      <td>-0.973978</td>\n",
       "    </tr>\n",
       "    <tr>\n",
       "      <th>566</th>\n",
       "      <td>1</td>\n",
       "      <td>0.702284</td>\n",
       "      <td>2.045574</td>\n",
       "      <td>0.672676</td>\n",
       "      <td>0.577953</td>\n",
       "      <td>-0.840484</td>\n",
       "      <td>-0.038680</td>\n",
       "      <td>0.046588</td>\n",
       "      <td>0.105777</td>\n",
       "      <td>-0.809117</td>\n",
       "      <td>...</td>\n",
       "      <td>0.561361</td>\n",
       "      <td>1.374854</td>\n",
       "      <td>0.579001</td>\n",
       "      <td>0.427906</td>\n",
       "      <td>-0.809587</td>\n",
       "      <td>0.350735</td>\n",
       "      <td>0.326767</td>\n",
       "      <td>0.414069</td>\n",
       "      <td>-1.104549</td>\n",
       "      <td>-0.318409</td>\n",
       "    </tr>\n",
       "    <tr>\n",
       "      <th>567</th>\n",
       "      <td>1</td>\n",
       "      <td>1.838341</td>\n",
       "      <td>2.336457</td>\n",
       "      <td>1.982524</td>\n",
       "      <td>1.735218</td>\n",
       "      <td>1.525767</td>\n",
       "      <td>3.272144</td>\n",
       "      <td>3.296944</td>\n",
       "      <td>2.658866</td>\n",
       "      <td>2.137194</td>\n",
       "      <td>...</td>\n",
       "      <td>1.961239</td>\n",
       "      <td>2.237926</td>\n",
       "      <td>2.303601</td>\n",
       "      <td>1.653171</td>\n",
       "      <td>1.430427</td>\n",
       "      <td>3.904848</td>\n",
       "      <td>3.197605</td>\n",
       "      <td>2.289985</td>\n",
       "      <td>1.919083</td>\n",
       "      <td>2.219635</td>\n",
       "    </tr>\n",
       "    <tr>\n",
       "      <th>568</th>\n",
       "      <td>0</td>\n",
       "      <td>-1.808401</td>\n",
       "      <td>1.221792</td>\n",
       "      <td>-1.814389</td>\n",
       "      <td>-1.347789</td>\n",
       "      <td>-3.112085</td>\n",
       "      <td>-1.150752</td>\n",
       "      <td>-1.114873</td>\n",
       "      <td>-1.261820</td>\n",
       "      <td>-0.820070</td>\n",
       "      <td>...</td>\n",
       "      <td>-1.410893</td>\n",
       "      <td>0.764190</td>\n",
       "      <td>-1.432735</td>\n",
       "      <td>-1.075813</td>\n",
       "      <td>-1.859019</td>\n",
       "      <td>-1.207552</td>\n",
       "      <td>-1.305831</td>\n",
       "      <td>-1.745063</td>\n",
       "      <td>-0.048138</td>\n",
       "      <td>-0.751207</td>\n",
       "    </tr>\n",
       "  </tbody>\n",
       "</table>\n",
       "<p>5 rows × 31 columns</p>\n",
       "</div>"
      ],
      "text/plain": [
       "     diagnosis  radius_mean  texture_mean  perimeter_mean  area_mean  \\\n",
       "564          1     2.110995      0.721473        2.060786   2.343856   \n",
       "565          1     1.704854      2.085134        1.615931   1.723842   \n",
       "566          1     0.702284      2.045574        0.672676   0.577953   \n",
       "567          1     1.838341      2.336457        1.982524   1.735218   \n",
       "568          0    -1.808401      1.221792       -1.814389  -1.347789   \n",
       "\n",
       "     smoothness_mean  compactness_mean  concavity_mean  concave points_mean  \\\n",
       "564         1.041842          0.219060        1.947285             2.320965   \n",
       "565         0.102458         -0.017833        0.693043             1.263669   \n",
       "566        -0.840484         -0.038680        0.046588             0.105777   \n",
       "567         1.525767          3.272144        3.296944             2.658866   \n",
       "568        -3.112085         -1.150752       -1.114873            -1.261820   \n",
       "\n",
       "     symmetry_mean  ...  radius_worst  texture_worst  perimeter_worst  \\\n",
       "564      -0.312589  ...      1.901185       0.117700         1.752563   \n",
       "565      -0.217664  ...      1.536720       2.047399         1.421940   \n",
       "566      -0.809117  ...      0.561361       1.374854         0.579001   \n",
       "567       2.137194  ...      1.961239       2.237926         2.303601   \n",
       "568      -0.820070  ...     -1.410893       0.764190        -1.432735   \n",
       "\n",
       "     area_worst  smoothness_worst  compactness_worst  concavity_worst  \\\n",
       "564    2.015301          0.378365          -0.273318         0.664512   \n",
       "565    1.494959         -0.691230          -0.394820         0.236573   \n",
       "566    0.427906         -0.809587           0.350735         0.326767   \n",
       "567    1.653171          1.430427           3.904848         3.197605   \n",
       "568   -1.075813         -1.859019          -1.207552        -1.305831   \n",
       "\n",
       "     concave points_worst  symmetry_worst  fractal_dimension_worst  \n",
       "564              1.629151       -1.360158                -0.709091  \n",
       "565              0.733827       -0.531855                -0.973978  \n",
       "566              0.414069       -1.104549                -0.318409  \n",
       "567              2.289985        1.919083                 2.219635  \n",
       "568             -1.745063       -0.048138                -0.751207  \n",
       "\n",
       "[5 rows x 31 columns]"
      ]
     },
     "execution_count": 9,
     "metadata": {},
     "output_type": "execute_result"
    }
   ],
   "source": [
    "df.tail()"
   ]
  },
  {
   "cell_type": "markdown",
   "id": "8878eb75",
   "metadata": {
    "papermill": {
     "duration": 0.014519,
     "end_time": "2023-07-14T05:46:12.983333",
     "exception": false,
     "start_time": "2023-07-14T05:46:12.968814",
     "status": "completed"
    },
    "tags": []
   },
   "source": [
    "# 6. \"Train-Test Split: Dividing the Dataset into Training and Testing Sets\""
   ]
  },
  {
   "cell_type": "code",
   "execution_count": 10,
   "id": "d57178c1",
   "metadata": {
    "execution": {
     "iopub.execute_input": "2023-07-14T05:46:13.015891Z",
     "iopub.status.busy": "2023-07-14T05:46:13.015389Z",
     "iopub.status.idle": "2023-07-14T05:46:13.025850Z",
     "shell.execute_reply": "2023-07-14T05:46:13.024553Z"
    },
    "id": "699bbe78",
    "papermill": {
     "duration": 0.030079,
     "end_time": "2023-07-14T05:46:13.028704",
     "exception": false,
     "start_time": "2023-07-14T05:46:12.998625",
     "status": "completed"
    },
    "tags": []
   },
   "outputs": [],
   "source": [
    "train, test = train_test_split(df, test_size=0.3)"
   ]
  },
  {
   "cell_type": "markdown",
   "id": "176ad355",
   "metadata": {
    "papermill": {
     "duration": 0.014504,
     "end_time": "2023-07-14T05:46:13.058086",
     "exception": false,
     "start_time": "2023-07-14T05:46:13.043582",
     "status": "completed"
    },
    "tags": []
   },
   "source": [
    "# 7. \"Creating X_train and y_train: Separating Features and Target Variable from the Train Dataset\""
   ]
  },
  {
   "cell_type": "code",
   "execution_count": 11,
   "id": "1bc9f548",
   "metadata": {
    "execution": {
     "iopub.execute_input": "2023-07-14T05:46:13.091188Z",
     "iopub.status.busy": "2023-07-14T05:46:13.090651Z",
     "iopub.status.idle": "2023-07-14T05:46:13.100282Z",
     "shell.execute_reply": "2023-07-14T05:46:13.098753Z"
    },
    "papermill": {
     "duration": 0.02883,
     "end_time": "2023-07-14T05:46:13.102784",
     "exception": false,
     "start_time": "2023-07-14T05:46:13.073954",
     "status": "completed"
    },
    "tags": []
   },
   "outputs": [],
   "source": [
    "X_train = train.drop(\"diagnosis\",axis=1)\n",
    "y_train = train.loc[:,\"diagnosis\"]"
   ]
  },
  {
   "cell_type": "markdown",
   "id": "de15ef65",
   "metadata": {
    "papermill": {
     "duration": 0.01526,
     "end_time": "2023-07-14T05:46:13.133951",
     "exception": false,
     "start_time": "2023-07-14T05:46:13.118691",
     "status": "completed"
    },
    "tags": []
   },
   "source": [
    "# 8. \"Creating X_test and y_test: Separating Features and Target Variable from the Test Dataset\""
   ]
  },
  {
   "cell_type": "code",
   "execution_count": 12,
   "id": "63cd9dc9",
   "metadata": {
    "execution": {
     "iopub.execute_input": "2023-07-14T05:46:13.169760Z",
     "iopub.status.busy": "2023-07-14T05:46:13.168936Z",
     "iopub.status.idle": "2023-07-14T05:46:13.177298Z",
     "shell.execute_reply": "2023-07-14T05:46:13.176003Z"
    },
    "id": "ae841721",
    "papermill": {
     "duration": 0.029478,
     "end_time": "2023-07-14T05:46:13.180353",
     "exception": false,
     "start_time": "2023-07-14T05:46:13.150875",
     "status": "completed"
    },
    "tags": []
   },
   "outputs": [],
   "source": [
    "X_test = test.drop(\"diagnosis\",axis=1)\n",
    "y_test = test.loc[:,\"diagnosis\"]"
   ]
  },
  {
   "cell_type": "markdown",
   "id": "cc51ffdd",
   "metadata": {
    "papermill": {
     "duration": 0.015145,
     "end_time": "2023-07-14T05:46:13.211495",
     "exception": false,
     "start_time": "2023-07-14T05:46:13.196350",
     "status": "completed"
    },
    "tags": []
   },
   "source": [
    "# 9. \"Creating model_1: Logistic Regression Model\""
   ]
  },
  {
   "cell_type": "code",
   "execution_count": 13,
   "id": "303c9a63",
   "metadata": {
    "execution": {
     "iopub.execute_input": "2023-07-14T05:46:13.248854Z",
     "iopub.status.busy": "2023-07-14T05:46:13.248391Z",
     "iopub.status.idle": "2023-07-14T05:46:13.253899Z",
     "shell.execute_reply": "2023-07-14T05:46:13.252647Z"
    },
    "id": "86ab8163",
    "papermill": {
     "duration": 0.028627,
     "end_time": "2023-07-14T05:46:13.256549",
     "exception": false,
     "start_time": "2023-07-14T05:46:13.227922",
     "status": "completed"
    },
    "tags": []
   },
   "outputs": [],
   "source": [
    "model_1 = LogisticRegression()"
   ]
  },
  {
   "cell_type": "markdown",
   "id": "eb70dd1e",
   "metadata": {
    "papermill": {
     "duration": 0.015222,
     "end_time": "2023-07-14T05:46:13.286752",
     "exception": false,
     "start_time": "2023-07-14T05:46:13.271530",
     "status": "completed"
    },
    "tags": []
   },
   "source": [
    "# 10. \"Fitting model_1: Training the Logistic Regression Model on the Training Data\""
   ]
  },
  {
   "cell_type": "code",
   "execution_count": 14,
   "id": "3c6729b7",
   "metadata": {
    "execution": {
     "iopub.execute_input": "2023-07-14T05:46:13.319562Z",
     "iopub.status.busy": "2023-07-14T05:46:13.318947Z",
     "iopub.status.idle": "2023-07-14T05:46:13.374578Z",
     "shell.execute_reply": "2023-07-14T05:46:13.373320Z"
    },
    "id": "744c283d",
    "outputId": "b98b52cc-dfb4-47ac-be31-6f39a10f97dd",
    "papermill": {
     "duration": 0.076755,
     "end_time": "2023-07-14T05:46:13.378570",
     "exception": false,
     "start_time": "2023-07-14T05:46:13.301815",
     "status": "completed"
    },
    "tags": []
   },
   "outputs": [
    {
     "data": {
      "text/html": [
       "<style>#sk-container-id-1 {color: black;background-color: white;}#sk-container-id-1 pre{padding: 0;}#sk-container-id-1 div.sk-toggleable {background-color: white;}#sk-container-id-1 label.sk-toggleable__label {cursor: pointer;display: block;width: 100%;margin-bottom: 0;padding: 0.3em;box-sizing: border-box;text-align: center;}#sk-container-id-1 label.sk-toggleable__label-arrow:before {content: \"▸\";float: left;margin-right: 0.25em;color: #696969;}#sk-container-id-1 label.sk-toggleable__label-arrow:hover:before {color: black;}#sk-container-id-1 div.sk-estimator:hover label.sk-toggleable__label-arrow:before {color: black;}#sk-container-id-1 div.sk-toggleable__content {max-height: 0;max-width: 0;overflow: hidden;text-align: left;background-color: #f0f8ff;}#sk-container-id-1 div.sk-toggleable__content pre {margin: 0.2em;color: black;border-radius: 0.25em;background-color: #f0f8ff;}#sk-container-id-1 input.sk-toggleable__control:checked~div.sk-toggleable__content {max-height: 200px;max-width: 100%;overflow: auto;}#sk-container-id-1 input.sk-toggleable__control:checked~label.sk-toggleable__label-arrow:before {content: \"▾\";}#sk-container-id-1 div.sk-estimator input.sk-toggleable__control:checked~label.sk-toggleable__label {background-color: #d4ebff;}#sk-container-id-1 div.sk-label input.sk-toggleable__control:checked~label.sk-toggleable__label {background-color: #d4ebff;}#sk-container-id-1 input.sk-hidden--visually {border: 0;clip: rect(1px 1px 1px 1px);clip: rect(1px, 1px, 1px, 1px);height: 1px;margin: -1px;overflow: hidden;padding: 0;position: absolute;width: 1px;}#sk-container-id-1 div.sk-estimator {font-family: monospace;background-color: #f0f8ff;border: 1px dotted black;border-radius: 0.25em;box-sizing: border-box;margin-bottom: 0.5em;}#sk-container-id-1 div.sk-estimator:hover {background-color: #d4ebff;}#sk-container-id-1 div.sk-parallel-item::after {content: \"\";width: 100%;border-bottom: 1px solid gray;flex-grow: 1;}#sk-container-id-1 div.sk-label:hover label.sk-toggleable__label {background-color: #d4ebff;}#sk-container-id-1 div.sk-serial::before {content: \"\";position: absolute;border-left: 1px solid gray;box-sizing: border-box;top: 0;bottom: 0;left: 50%;z-index: 0;}#sk-container-id-1 div.sk-serial {display: flex;flex-direction: column;align-items: center;background-color: white;padding-right: 0.2em;padding-left: 0.2em;position: relative;}#sk-container-id-1 div.sk-item {position: relative;z-index: 1;}#sk-container-id-1 div.sk-parallel {display: flex;align-items: stretch;justify-content: center;background-color: white;position: relative;}#sk-container-id-1 div.sk-item::before, #sk-container-id-1 div.sk-parallel-item::before {content: \"\";position: absolute;border-left: 1px solid gray;box-sizing: border-box;top: 0;bottom: 0;left: 50%;z-index: -1;}#sk-container-id-1 div.sk-parallel-item {display: flex;flex-direction: column;z-index: 1;position: relative;background-color: white;}#sk-container-id-1 div.sk-parallel-item:first-child::after {align-self: flex-end;width: 50%;}#sk-container-id-1 div.sk-parallel-item:last-child::after {align-self: flex-start;width: 50%;}#sk-container-id-1 div.sk-parallel-item:only-child::after {width: 0;}#sk-container-id-1 div.sk-dashed-wrapped {border: 1px dashed gray;margin: 0 0.4em 0.5em 0.4em;box-sizing: border-box;padding-bottom: 0.4em;background-color: white;}#sk-container-id-1 div.sk-label label {font-family: monospace;font-weight: bold;display: inline-block;line-height: 1.2em;}#sk-container-id-1 div.sk-label-container {text-align: center;}#sk-container-id-1 div.sk-container {/* jupyter's `normalize.less` sets `[hidden] { display: none; }` but bootstrap.min.css set `[hidden] { display: none !important; }` so we also need the `!important` here to be able to override the default hidden behavior on the sphinx rendered scikit-learn.org. See: https://github.com/scikit-learn/scikit-learn/issues/21755 */display: inline-block !important;position: relative;}#sk-container-id-1 div.sk-text-repr-fallback {display: none;}</style><div id=\"sk-container-id-1\" class=\"sk-top-container\"><div class=\"sk-text-repr-fallback\"><pre>LogisticRegression()</pre><b>In a Jupyter environment, please rerun this cell to show the HTML representation or trust the notebook. <br />On GitHub, the HTML representation is unable to render, please try loading this page with nbviewer.org.</b></div><div class=\"sk-container\" hidden><div class=\"sk-item\"><div class=\"sk-estimator sk-toggleable\"><input class=\"sk-toggleable__control sk-hidden--visually\" id=\"sk-estimator-id-1\" type=\"checkbox\" checked><label for=\"sk-estimator-id-1\" class=\"sk-toggleable__label sk-toggleable__label-arrow\">LogisticRegression</label><div class=\"sk-toggleable__content\"><pre>LogisticRegression()</pre></div></div></div></div></div>"
      ],
      "text/plain": [
       "LogisticRegression()"
      ]
     },
     "execution_count": 14,
     "metadata": {},
     "output_type": "execute_result"
    }
   ],
   "source": [
    "model_1.fit(X_train,y_train)"
   ]
  },
  {
   "cell_type": "markdown",
   "id": "31145e81",
   "metadata": {
    "papermill": {
     "duration": 0.032671,
     "end_time": "2023-07-14T05:46:13.444765",
     "exception": false,
     "start_time": "2023-07-14T05:46:13.412094",
     "status": "completed"
    },
    "tags": []
   },
   "source": [
    "# 11. \"Making Predictions: Predicting the Target Variable using model_1 on the Test Data\""
   ]
  },
  {
   "cell_type": "code",
   "execution_count": 15,
   "id": "f97077e9",
   "metadata": {
    "execution": {
     "iopub.execute_input": "2023-07-14T05:46:13.493705Z",
     "iopub.status.busy": "2023-07-14T05:46:13.493293Z",
     "iopub.status.idle": "2023-07-14T05:46:13.504206Z",
     "shell.execute_reply": "2023-07-14T05:46:13.502842Z"
    },
    "id": "7c79e90d",
    "outputId": "3fa2dd35-196e-4774-ea4a-bb1d5c3ec04e",
    "papermill": {
     "duration": 0.03043,
     "end_time": "2023-07-14T05:46:13.506653",
     "exception": false,
     "start_time": "2023-07-14T05:46:13.476223",
     "status": "completed"
    },
    "tags": []
   },
   "outputs": [
    {
     "data": {
      "text/plain": [
       "array([1, 0, 1, 1, 1, 0, 0, 1, 1, 0, 1, 0, 0, 0, 0, 1, 1, 1, 0, 1, 1, 0,\n",
       "       0, 0, 0, 0, 1, 0, 1, 0, 0, 0, 1, 1, 0, 1, 0, 1, 1, 0, 1, 1, 0, 1,\n",
       "       0, 0, 0, 0, 0, 0, 1, 1, 1, 1, 1, 1, 1, 1, 0, 1, 1, 0, 1, 1, 0, 0,\n",
       "       1, 1, 0, 1, 0, 0, 0, 1, 0, 0, 0, 0, 1, 0, 0, 1, 1, 0, 1, 1, 0, 0,\n",
       "       1, 0, 1, 0, 1, 1, 0, 0, 0, 0, 1, 0, 0, 0, 1, 1, 1, 0, 0, 1, 0, 0,\n",
       "       0, 1, 0, 0, 1, 0, 1, 0, 0, 0, 1, 0, 0, 0, 0, 1, 0, 0, 1, 0, 0, 1,\n",
       "       1, 1, 0, 0, 0, 1, 0, 1, 1, 1, 0, 0, 0, 0, 0, 0, 1, 0, 1, 0, 0, 0,\n",
       "       0, 0, 0, 0, 0, 1, 1, 0, 1, 1, 0, 0, 0, 1, 1, 1, 1])"
      ]
     },
     "execution_count": 15,
     "metadata": {},
     "output_type": "execute_result"
    }
   ],
   "source": [
    "predictions = model_1.predict(X_test)\n",
    "predictions"
   ]
  },
  {
   "cell_type": "markdown",
   "id": "12671bb8",
   "metadata": {
    "papermill": {
     "duration": 0.016096,
     "end_time": "2023-07-14T05:46:13.539089",
     "exception": false,
     "start_time": "2023-07-14T05:46:13.522993",
     "status": "completed"
    },
    "tags": []
   },
   "source": [
    "# 12. \"Calculating Confusion Matrix: Evaluating the Performance of the Predictions using Confusion Matrix on the Test Data\""
   ]
  },
  {
   "cell_type": "code",
   "execution_count": 16,
   "id": "9cb8abba",
   "metadata": {
    "execution": {
     "iopub.execute_input": "2023-07-14T05:46:13.572205Z",
     "iopub.status.busy": "2023-07-14T05:46:13.571519Z",
     "iopub.status.idle": "2023-07-14T05:46:13.579573Z",
     "shell.execute_reply": "2023-07-14T05:46:13.578607Z"
    },
    "id": "a1840540",
    "outputId": "8090f709-f040-4055-a014-dc2d8e76cc97",
    "papermill": {
     "duration": 0.027257,
     "end_time": "2023-07-14T05:46:13.581823",
     "exception": false,
     "start_time": "2023-07-14T05:46:13.554566",
     "status": "completed"
    },
    "tags": []
   },
   "outputs": [
    {
     "data": {
      "text/plain": [
       "array([[95,  4],\n",
       "       [ 1, 71]])"
      ]
     },
     "execution_count": 16,
     "metadata": {},
     "output_type": "execute_result"
    }
   ],
   "source": [
    "confusion_matrix(y_test, predictions)"
   ]
  },
  {
   "cell_type": "markdown",
   "id": "0307bfd0",
   "metadata": {
    "papermill": {
     "duration": 0.015297,
     "end_time": "2023-07-14T05:46:13.612710",
     "exception": false,
     "start_time": "2023-07-14T05:46:13.597413",
     "status": "completed"
    },
    "tags": []
   },
   "source": [
    "# 13. \"Printing Classification Report: Assessing the Performance of the Predictions using Classification Report on the Test Data\""
   ]
  },
  {
   "cell_type": "code",
   "execution_count": 17,
   "id": "a9613d9c",
   "metadata": {
    "execution": {
     "iopub.execute_input": "2023-07-14T05:46:13.646695Z",
     "iopub.status.busy": "2023-07-14T05:46:13.646021Z",
     "iopub.status.idle": "2023-07-14T05:46:13.660819Z",
     "shell.execute_reply": "2023-07-14T05:46:13.659070Z"
    },
    "id": "cbfed89a",
    "outputId": "697d2ba3-2db9-4220-aeb2-f756e3193187",
    "papermill": {
     "duration": 0.034978,
     "end_time": "2023-07-14T05:46:13.663303",
     "exception": false,
     "start_time": "2023-07-14T05:46:13.628325",
     "status": "completed"
    },
    "tags": []
   },
   "outputs": [
    {
     "name": "stdout",
     "output_type": "stream",
     "text": [
      "              precision    recall  f1-score   support\n",
      "\n",
      "           0       0.99      0.96      0.97        99\n",
      "           1       0.95      0.99      0.97        72\n",
      "\n",
      "    accuracy                           0.97       171\n",
      "   macro avg       0.97      0.97      0.97       171\n",
      "weighted avg       0.97      0.97      0.97       171\n",
      "\n"
     ]
    }
   ],
   "source": [
    "print(classification_report(y_test, predictions))"
   ]
  },
  {
   "cell_type": "markdown",
   "id": "02515788",
   "metadata": {
    "papermill": {
     "duration": 0.015909,
     "end_time": "2023-07-14T05:46:13.695509",
     "exception": false,
     "start_time": "2023-07-14T05:46:13.679600",
     "status": "completed"
    },
    "tags": []
   },
   "source": [
    "# 14. \"Creating model_2: Linear Support Vector Classifier (LinearSVC) Model\""
   ]
  },
  {
   "cell_type": "code",
   "execution_count": 18,
   "id": "675b31bd",
   "metadata": {
    "execution": {
     "iopub.execute_input": "2023-07-14T05:46:13.733368Z",
     "iopub.status.busy": "2023-07-14T05:46:13.732678Z",
     "iopub.status.idle": "2023-07-14T05:46:13.737221Z",
     "shell.execute_reply": "2023-07-14T05:46:13.736252Z"
    },
    "id": "0c1962fc",
    "papermill": {
     "duration": 0.026875,
     "end_time": "2023-07-14T05:46:13.739747",
     "exception": false,
     "start_time": "2023-07-14T05:46:13.712872",
     "status": "completed"
    },
    "tags": []
   },
   "outputs": [],
   "source": [
    "model_2 = LinearSVC()"
   ]
  },
  {
   "cell_type": "markdown",
   "id": "372d17be",
   "metadata": {
    "papermill": {
     "duration": 0.016023,
     "end_time": "2023-07-14T05:46:13.771812",
     "exception": false,
     "start_time": "2023-07-14T05:46:13.755789",
     "status": "completed"
    },
    "tags": []
   },
   "source": [
    "# 15. \"Fitting model_2: Training the Linear Support Vector Classifier (LinearSVC) Model on the Training Data\""
   ]
  },
  {
   "cell_type": "code",
   "execution_count": 19,
   "id": "fba307e0",
   "metadata": {
    "execution": {
     "iopub.execute_input": "2023-07-14T05:46:13.807414Z",
     "iopub.status.busy": "2023-07-14T05:46:13.806694Z",
     "iopub.status.idle": "2023-07-14T05:46:13.822691Z",
     "shell.execute_reply": "2023-07-14T05:46:13.821496Z"
    },
    "id": "d0e0aaa5",
    "outputId": "475b2d21-9600-4b28-cdef-df3db503f666",
    "papermill": {
     "duration": 0.037001,
     "end_time": "2023-07-14T05:46:13.825270",
     "exception": false,
     "start_time": "2023-07-14T05:46:13.788269",
     "status": "completed"
    },
    "tags": []
   },
   "outputs": [
    {
     "data": {
      "text/html": [
       "<style>#sk-container-id-2 {color: black;background-color: white;}#sk-container-id-2 pre{padding: 0;}#sk-container-id-2 div.sk-toggleable {background-color: white;}#sk-container-id-2 label.sk-toggleable__label {cursor: pointer;display: block;width: 100%;margin-bottom: 0;padding: 0.3em;box-sizing: border-box;text-align: center;}#sk-container-id-2 label.sk-toggleable__label-arrow:before {content: \"▸\";float: left;margin-right: 0.25em;color: #696969;}#sk-container-id-2 label.sk-toggleable__label-arrow:hover:before {color: black;}#sk-container-id-2 div.sk-estimator:hover label.sk-toggleable__label-arrow:before {color: black;}#sk-container-id-2 div.sk-toggleable__content {max-height: 0;max-width: 0;overflow: hidden;text-align: left;background-color: #f0f8ff;}#sk-container-id-2 div.sk-toggleable__content pre {margin: 0.2em;color: black;border-radius: 0.25em;background-color: #f0f8ff;}#sk-container-id-2 input.sk-toggleable__control:checked~div.sk-toggleable__content {max-height: 200px;max-width: 100%;overflow: auto;}#sk-container-id-2 input.sk-toggleable__control:checked~label.sk-toggleable__label-arrow:before {content: \"▾\";}#sk-container-id-2 div.sk-estimator input.sk-toggleable__control:checked~label.sk-toggleable__label {background-color: #d4ebff;}#sk-container-id-2 div.sk-label input.sk-toggleable__control:checked~label.sk-toggleable__label {background-color: #d4ebff;}#sk-container-id-2 input.sk-hidden--visually {border: 0;clip: rect(1px 1px 1px 1px);clip: rect(1px, 1px, 1px, 1px);height: 1px;margin: -1px;overflow: hidden;padding: 0;position: absolute;width: 1px;}#sk-container-id-2 div.sk-estimator {font-family: monospace;background-color: #f0f8ff;border: 1px dotted black;border-radius: 0.25em;box-sizing: border-box;margin-bottom: 0.5em;}#sk-container-id-2 div.sk-estimator:hover {background-color: #d4ebff;}#sk-container-id-2 div.sk-parallel-item::after {content: \"\";width: 100%;border-bottom: 1px solid gray;flex-grow: 1;}#sk-container-id-2 div.sk-label:hover label.sk-toggleable__label {background-color: #d4ebff;}#sk-container-id-2 div.sk-serial::before {content: \"\";position: absolute;border-left: 1px solid gray;box-sizing: border-box;top: 0;bottom: 0;left: 50%;z-index: 0;}#sk-container-id-2 div.sk-serial {display: flex;flex-direction: column;align-items: center;background-color: white;padding-right: 0.2em;padding-left: 0.2em;position: relative;}#sk-container-id-2 div.sk-item {position: relative;z-index: 1;}#sk-container-id-2 div.sk-parallel {display: flex;align-items: stretch;justify-content: center;background-color: white;position: relative;}#sk-container-id-2 div.sk-item::before, #sk-container-id-2 div.sk-parallel-item::before {content: \"\";position: absolute;border-left: 1px solid gray;box-sizing: border-box;top: 0;bottom: 0;left: 50%;z-index: -1;}#sk-container-id-2 div.sk-parallel-item {display: flex;flex-direction: column;z-index: 1;position: relative;background-color: white;}#sk-container-id-2 div.sk-parallel-item:first-child::after {align-self: flex-end;width: 50%;}#sk-container-id-2 div.sk-parallel-item:last-child::after {align-self: flex-start;width: 50%;}#sk-container-id-2 div.sk-parallel-item:only-child::after {width: 0;}#sk-container-id-2 div.sk-dashed-wrapped {border: 1px dashed gray;margin: 0 0.4em 0.5em 0.4em;box-sizing: border-box;padding-bottom: 0.4em;background-color: white;}#sk-container-id-2 div.sk-label label {font-family: monospace;font-weight: bold;display: inline-block;line-height: 1.2em;}#sk-container-id-2 div.sk-label-container {text-align: center;}#sk-container-id-2 div.sk-container {/* jupyter's `normalize.less` sets `[hidden] { display: none; }` but bootstrap.min.css set `[hidden] { display: none !important; }` so we also need the `!important` here to be able to override the default hidden behavior on the sphinx rendered scikit-learn.org. See: https://github.com/scikit-learn/scikit-learn/issues/21755 */display: inline-block !important;position: relative;}#sk-container-id-2 div.sk-text-repr-fallback {display: none;}</style><div id=\"sk-container-id-2\" class=\"sk-top-container\"><div class=\"sk-text-repr-fallback\"><pre>LinearSVC()</pre><b>In a Jupyter environment, please rerun this cell to show the HTML representation or trust the notebook. <br />On GitHub, the HTML representation is unable to render, please try loading this page with nbviewer.org.</b></div><div class=\"sk-container\" hidden><div class=\"sk-item\"><div class=\"sk-estimator sk-toggleable\"><input class=\"sk-toggleable__control sk-hidden--visually\" id=\"sk-estimator-id-2\" type=\"checkbox\" checked><label for=\"sk-estimator-id-2\" class=\"sk-toggleable__label sk-toggleable__label-arrow\">LinearSVC</label><div class=\"sk-toggleable__content\"><pre>LinearSVC()</pre></div></div></div></div></div>"
      ],
      "text/plain": [
       "LinearSVC()"
      ]
     },
     "execution_count": 19,
     "metadata": {},
     "output_type": "execute_result"
    }
   ],
   "source": [
    "model_2.fit(X_train,y_train)"
   ]
  },
  {
   "cell_type": "markdown",
   "id": "307f7947",
   "metadata": {
    "papermill": {
     "duration": 0.015574,
     "end_time": "2023-07-14T05:46:13.856685",
     "exception": false,
     "start_time": "2023-07-14T05:46:13.841111",
     "status": "completed"
    },
    "tags": []
   },
   "source": [
    "# 16. \"Making Predictions: Predicting the Target Variable using model_2 on the Test Data\""
   ]
  },
  {
   "cell_type": "code",
   "execution_count": 20,
   "id": "364e73c1",
   "metadata": {
    "execution": {
     "iopub.execute_input": "2023-07-14T05:46:13.891761Z",
     "iopub.status.busy": "2023-07-14T05:46:13.891075Z",
     "iopub.status.idle": "2023-07-14T05:46:13.901546Z",
     "shell.execute_reply": "2023-07-14T05:46:13.900257Z"
    },
    "id": "06368e44",
    "outputId": "b4e4cd80-09af-4a24-8527-ff7e75b79544",
    "papermill": {
     "duration": 0.031254,
     "end_time": "2023-07-14T05:46:13.904029",
     "exception": false,
     "start_time": "2023-07-14T05:46:13.872775",
     "status": "completed"
    },
    "tags": []
   },
   "outputs": [
    {
     "data": {
      "text/plain": [
       "array([1, 0, 1, 1, 1, 0, 0, 1, 1, 0, 1, 0, 0, 0, 0, 1, 1, 1, 0, 1, 1, 0,\n",
       "       0, 0, 0, 0, 1, 0, 1, 0, 0, 0, 1, 1, 0, 1, 0, 1, 1, 0, 1, 1, 0, 1,\n",
       "       0, 0, 0, 0, 0, 0, 1, 1, 1, 0, 1, 1, 1, 1, 0, 1, 1, 0, 1, 1, 0, 0,\n",
       "       1, 1, 0, 1, 0, 0, 0, 1, 0, 0, 0, 0, 1, 0, 0, 1, 1, 0, 1, 1, 0, 0,\n",
       "       1, 0, 1, 0, 1, 1, 0, 0, 0, 0, 1, 0, 0, 0, 1, 0, 1, 0, 0, 1, 0, 0,\n",
       "       0, 1, 0, 0, 1, 0, 1, 0, 0, 0, 1, 0, 0, 0, 0, 0, 0, 0, 1, 0, 0, 1,\n",
       "       1, 1, 0, 0, 0, 1, 0, 1, 1, 1, 0, 0, 0, 0, 0, 0, 1, 0, 1, 0, 0, 0,\n",
       "       0, 0, 0, 0, 0, 1, 1, 0, 1, 1, 0, 0, 0, 1, 1, 1, 1])"
      ]
     },
     "execution_count": 20,
     "metadata": {},
     "output_type": "execute_result"
    }
   ],
   "source": [
    "predictions = model_2.predict(X_test)\n",
    "predictions"
   ]
  },
  {
   "cell_type": "markdown",
   "id": "017e3acc",
   "metadata": {
    "papermill": {
     "duration": 0.016573,
     "end_time": "2023-07-14T05:46:13.938414",
     "exception": false,
     "start_time": "2023-07-14T05:46:13.921841",
     "status": "completed"
    },
    "tags": []
   },
   "source": [
    "# 17. \"Calculating Confusion Matrix: Evaluating the Performance of the Predictions using Confusion Matrix on the Test Data\""
   ]
  },
  {
   "cell_type": "code",
   "execution_count": 21,
   "id": "1a88261b",
   "metadata": {
    "execution": {
     "iopub.execute_input": "2023-07-14T05:46:13.973031Z",
     "iopub.status.busy": "2023-07-14T05:46:13.972615Z",
     "iopub.status.idle": "2023-07-14T05:46:13.981550Z",
     "shell.execute_reply": "2023-07-14T05:46:13.980675Z"
    },
    "id": "59a01cb3",
    "outputId": "3757ea3e-60e8-438c-e606-4a3817d777f2",
    "papermill": {
     "duration": 0.028806,
     "end_time": "2023-07-14T05:46:13.983756",
     "exception": false,
     "start_time": "2023-07-14T05:46:13.954950",
     "status": "completed"
    },
    "tags": []
   },
   "outputs": [
    {
     "data": {
      "text/plain": [
       "array([[97,  2],\n",
       "       [ 2, 70]])"
      ]
     },
     "execution_count": 21,
     "metadata": {},
     "output_type": "execute_result"
    }
   ],
   "source": [
    "confusion_matrix(y_test, predictions)"
   ]
  },
  {
   "cell_type": "markdown",
   "id": "b8705c7b",
   "metadata": {
    "papermill": {
     "duration": 0.016021,
     "end_time": "2023-07-14T05:46:14.016670",
     "exception": false,
     "start_time": "2023-07-14T05:46:14.000649",
     "status": "completed"
    },
    "tags": []
   },
   "source": [
    "# 18. \"Printing Classification Report: Assessing the Performance of the Predictions using Classification Report on the Test Data\""
   ]
  },
  {
   "cell_type": "code",
   "execution_count": 22,
   "id": "5a821f3c",
   "metadata": {
    "execution": {
     "iopub.execute_input": "2023-07-14T05:46:14.051800Z",
     "iopub.status.busy": "2023-07-14T05:46:14.051008Z",
     "iopub.status.idle": "2023-07-14T05:46:14.066600Z",
     "shell.execute_reply": "2023-07-14T05:46:14.065113Z"
    },
    "id": "b699c1c0",
    "outputId": "49740443-48b5-44ba-83b8-81295b5d37f2",
    "papermill": {
     "duration": 0.035873,
     "end_time": "2023-07-14T05:46:14.069123",
     "exception": false,
     "start_time": "2023-07-14T05:46:14.033250",
     "status": "completed"
    },
    "tags": []
   },
   "outputs": [
    {
     "name": "stdout",
     "output_type": "stream",
     "text": [
      "              precision    recall  f1-score   support\n",
      "\n",
      "           0       0.98      0.98      0.98        99\n",
      "           1       0.97      0.97      0.97        72\n",
      "\n",
      "    accuracy                           0.98       171\n",
      "   macro avg       0.98      0.98      0.98       171\n",
      "weighted avg       0.98      0.98      0.98       171\n",
      "\n"
     ]
    }
   ],
   "source": [
    "print(classification_report(y_test, predictions))"
   ]
  }
 ],
 "metadata": {
  "kernelspec": {
   "display_name": "Python 3",
   "language": "python",
   "name": "python3"
  },
  "language_info": {
   "codemirror_mode": {
    "name": "ipython",
    "version": 3
   },
   "file_extension": ".py",
   "mimetype": "text/x-python",
   "name": "python",
   "nbconvert_exporter": "python",
   "pygments_lexer": "ipython3",
   "version": "3.10.10"
  },
  "papermill": {
   "default_parameters": {},
   "duration": 22.07828,
   "end_time": "2023-07-14T05:46:15.612043",
   "environment_variables": {},
   "exception": null,
   "input_path": "__notebook__.ipynb",
   "output_path": "__notebook__.ipynb",
   "parameters": {},
   "start_time": "2023-07-14T05:45:53.533763",
   "version": "2.4.0"
  }
 },
 "nbformat": 4,
 "nbformat_minor": 5
}
